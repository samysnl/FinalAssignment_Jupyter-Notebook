{
 "cells": [
  {
   "cell_type": "markdown",
   "metadata": {
    "collapsed": true
   },
   "source": [
    "# Data Science Tools and Ecosystem\n",
    "\n",
    "\n",
    "In this notebook, Data Science Tools and Ecosystem are summarized.\n",
    "\n",
    "**Obejctives:**\n",
    "\n",
    "Some of the popular languages that Data Scientists use are:\n",
    "\n",
    "1. Python\n",
    "2. R\n",
    "3. SQL\n",
    "4. Java\n",
    "5. Scala\n",
    "6. Julia\n",
    "\n",
    "Some of the commonly used libraries used by Data Scientists include:\n",
    "\n",
    "1. Numpy\n",
    "2. Pandas\n",
    "3. Matplotlib\n",
    "4. Seaborn\n",
    "5. Tensorflow\n",
    "\n",
    "| Data Science Tools  |\n",
    "|---------------------|\n",
    "|  Jupyter Notebook   |\n",
    "| Visual Studio Code  |\n",
    "|    RS Studio        |\n",
    "\n",
    "### Below are a few examples of evaluating arithmetic expressions in Python.\n",
    "\n",
    "1. Addition:\n",
    "\n",
    "Example 1: 2 + 3\n",
    "Example 2: x + y\n",
    "\n",
    "2. Subtraction:\n",
    "\n",
    "Example 1: 5 - 2\n",
    "Example 2: a - b\n",
    "\n",
    "3. Multiplication:\n",
    "\n",
    "Example 1: 4 * 6\n",
    "Example 2: m * n\n",
    "\n",
    "4. Division:\n",
    "\n",
    "Example 1: 8 / 2\n",
    "Example 2: p / q\n",
    "\n",
    "5. Exponentiation (Power):\n",
    "\n",
    "Example 1: 2^3 \n",
    "Example 2: x^2 \n",
    "\n",
    "6. Modulus (Remainder):\n",
    "\n",
    "Example 1: 10 % 3 \n",
    "Example 2: a % b \n",
    "\n",
    "7. Parentheses (to control the order of operations):\n",
    "\n",
    "Example 1: (4 + 3) * 2 \n",
    "Example 2: a * (b + c) \n",
    "\n",
    "8. Mixed Operations:\n",
    "\n",
    "Example 1: 3 * (8 - 4) / 2 \n",
    "Example 2: (x + y) / (a - b) \n",
    "\n",
    "\n"
   ]
  },
  {
   "cell_type": "code",
   "execution_count": 3,
   "metadata": {},
   "outputs": [],
   "source": [
    "# Create a code cell to multiply and add numbers\n",
    "x = (3*4)+5"
   ]
  },
  {
   "cell_type": "code",
   "execution_count": 5,
   "metadata": {},
   "outputs": [
    {
     "name": "stdout",
     "output_type": "stream",
     "text": [
      "17\n"
     ]
    }
   ],
   "source": [
    "print(x)"
   ]
  },
  {
   "cell_type": "code",
   "execution_count": 8,
   "metadata": {},
   "outputs": [
    {
     "name": "stdout",
     "output_type": "stream",
     "text": [
      "3.3333333333333335\n"
     ]
    }
   ],
   "source": [
    "# Create a code cell to convert minutes to hours\n",
    "# This will convert 200 minutes to hours by diving by 60\n",
    "y = 60\n",
    "z = 200/y\n",
    "print(z)\n"
   ]
  },
  {
   "cell_type": "markdown",
   "metadata": {},
   "source": [
    "## Author\n",
    "SAMY LOIOLA"
   ]
  }
 ],
 "metadata": {
  "kernelspec": {
   "display_name": "Python 3.10",
   "language": "python",
   "name": "python3"
  },
  "language_info": {
   "codemirror_mode": {
    "name": "ipython",
    "version": 3
   },
   "file_extension": ".py",
   "mimetype": "text/x-python",
   "name": "python",
   "nbconvert_exporter": "python",
   "pygments_lexer": "ipython3",
   "version": "3.10.12"
  }
 },
 "nbformat": 4,
 "nbformat_minor": 1
}
